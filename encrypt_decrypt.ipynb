{
 "cells": [
  {
   "cell_type": "code",
   "execution_count": null,
   "metadata": {},
   "outputs": [],
   "source": [
    "\n",
    "from tkinter import messagebox, simpledialog, Tk\n",
    "\n",
    "def is_even(number):\n",
    "    return number % 2 == 0\n",
    "\n",
    "def get_even_letters(message):\n",
    "    even_letters = []\n",
    "    for counter in range(0, len(message)):\n",
    "        if is_even(counter):\n",
    "            even_letters.append(message[counter])\n",
    "    return even_letters\n",
    "\n",
    "def get_odd_letters(message):\n",
    "    odd_letters = []\n",
    "    for counter in range(0, len(message)):\n",
    "        if not is_even(counter):\n",
    "            odd_letters.append(message[counter])\n",
    "    return odd_letters\n",
    "\n",
    "def swap_letters(message):\n",
    "    letter_list = []\n",
    "    if not is_even(len(message)):\n",
    "        message = message + 'x'\n",
    "    even_letters = get_even_letters(message)\n",
    "    odd_letters = get_odd_letters(message)\n",
    "    for counter in range(0, int(len(message)/2)):\n",
    "        letter_list.append(odd_letters[counter])\n",
    "        letter_list.append(even_letters[counter])\n",
    "    new_message = ''.join(letter_list)\n",
    "    return new_message\n",
    "\n",
    "def get_task():\n",
    "    task = simpledialog.askstring('Task', 'Do you want to encrypt or decrypt?')\n",
    "    return task\n",
    "\n",
    "def get_message():\n",
    "    message = simpledialog.askstring('Message', 'Enter the secret message: ')\n",
    "    return message\n",
    "\n",
    "root = Tk()\n",
    "while True:\n",
    "    task = get_task()\n",
    "    if task == 'encrypt':\n",
    "        message = get_message()\n",
    "        encrypted = swap_letters(message)\n",
    "        messagebox.showinfo('Ciphertext of the secret message is:', encrypted)\n",
    "        \n",
    "    elif task == 'decrypt':\n",
    "        message = get_message()\n",
    "        decrypted = swap_letters(message)\n",
    "        messagebox.showinfo('Plaintext of the secret message is:', decrypted)\n",
    "    else:\n",
    "        break\n",
    "root.mainloop()"
   ]
  }
 ],
 "metadata": {
  "kernelspec": {
   "display_name": "Python 3.8.5 64-bit",
   "language": "python",
   "name": "python3"
  },
  "language_info": {
   "name": "python",
   "version": "3.8.5"
  },
  "orig_nbformat": 4,
  "vscode": {
   "interpreter": {
    "hash": "865d8b2eb28e274047ba64063dfb6a2aabf0dfec4905d304d7a76618dae6fdd4"
   }
  }
 },
 "nbformat": 4,
 "nbformat_minor": 2
}
